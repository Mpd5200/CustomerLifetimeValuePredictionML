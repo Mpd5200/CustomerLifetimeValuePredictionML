{
 "cells": [
  {
   "cell_type": "code",
   "execution_count": 1,
   "id": "8f4fed2c",
   "metadata": {},
   "outputs": [],
   "source": [
    "#import dependencies \n",
    "import pandas as pd\n",
    "import plotly.express as px\n",
    "import numpy as np \n",
    "import matplotlib.pyplot as plt\n",
    "import seaborn as sns\n",
    "from sklearn.metrics import r2_score\n",
    "from sklearn.linear_model import LinearRegression\n",
    "from sklearn.model_selection import train_test_split\n",
    "import math\n",
    "from sklearn.ensemble import GradientBoostingRegressor\n",
    "from sklearn.model_selection import GridSearchCV\n",
    "from sklearn.metrics import mean_squared_error\n",
    "import plotly.graph_objects as go\n",
    "import scipy.stats as stats\n",
    "from scipy.special import inv_boxcox \n",
    "from sklearn.preprocessing import OneHotEncoder\n",
    "import warnings \n",
    "from datetime import datetime, timedelta\n",
    "from sklearn.model_selection import train_test_split\n",
    "from prophet import Prophet\n",
    "from time import time \n",
    "from statsmodels.graphics.tsaplots import plot_acf\n",
    "import matplotlib.pyplot as plt\n",
    "import seaborn as sns \n",
    "from sklearn.impute import SimpleImputer\n",
    "from sklearn.ensemble import RandomForestRegressor, GradientBoostingRegressor\n",
    "import time \n",
    "warnings.filterwarnings(\"ignore\")"
   ]
  },
  {
   "cell_type": "code",
   "execution_count": 2,
   "id": "2190ae0b",
   "metadata": {},
   "outputs": [],
   "source": [
    "####### time-series ########\n",
    "\n",
    "pd.set_option('display.float_format', lambda x: '%.3f' % x)\n",
    "\n",
    "summary_data = pd.read_csv('../../data/source/gt_omsa__org_usage_summary.csv')\n",
    "reads_data = pd.read_csv('../../data/source/gt_omsa__daily_read_events.csv')\n",
    "writes_data = pd.read_csv('../../data/source/gt_omsa__daily_write_events.csv')\n"
   ]
  },
  {
   "cell_type": "code",
   "execution_count": 3,
   "id": "0d140eab",
   "metadata": {},
   "outputs": [
    {
     "data": {
      "image/png": "[encoded data removed]",
      "text/plain": [
       "<Figure size 432x288 with 1 Axes>"
      ]
     },
     "metadata": {
      "needs_background": "light"
     },
     "output_type": "display_data"
    }
   ],
   "source": [
    "## Measure Reads Auto-Correlation \n",
    "\n",
    "def measure_autocorrelation(data, grain = 'reads'):\n",
    "    \n",
    "    df = data.copy()\n",
    "    \n",
    "    if grain == 'reads':\n",
    "    \n",
    "        df['read_event_date'] = pd.to_datetime(df['read_event_date']) - pd.to_timedelta(7, unit='d')\n",
    "        df = df.groupby(['org_id', pd.Grouper(key='read_event_date', freq='MS')])['sum_read_counter'].sum()        .reset_index()        .sort_values('read_event_date')\n",
    "\n",
    "        df = df.groupby('read_event_date')['sum_read_counter'].sum().reset_index()\n",
    "        plot_acf(x=df['sum_read_counter'], lags=17)\n",
    "        plt.show()\n",
    "        \n",
    "    else:\n",
    "        \n",
    "        df['write_event_date'] = pd.to_datetime(df['write_event_date']) - pd.to_timedelta(7, unit='d')\n",
    "        df = df.groupby(['org_id', pd.Grouper(key='write_event_date', freq='W-MON')])['sum_write_counter'].sum()        .reset_index()        .sort_values('write_event_date')\n",
    "\n",
    "        df = df.groupby('write_event_date')['sum_write_counter'].sum().reset_index()\n",
    "        plot_acf(x=df['sum_write_counter'], lags=17)\n",
    "        plt.show()\n",
    "\n",
    "measure_autocorrelation(reads_data, grain = 'reads')"
   ]
  },
  {
   "cell_type": "code",
   "execution_count": 4,
   "id": "6cece9ca",
   "metadata": {},
   "outputs": [],
   "source": [
    "## Turn the data into a time-series dataset at the monthly level \n",
    "\n",
    "def create_monthly(dataset, grain = 'reads'):\n",
    "    \n",
    "    df = dataset.copy()\n",
    "    \n",
    "    if grain == 'reads':\n",
    "        \n",
    "        df['read_event_date'] = pd.to_datetime(df['read_event_date']) - pd.to_timedelta(7, unit='d')\n",
    "        df = df.groupby(['org_id', pd.Grouper(key='read_event_date', freq='MS')])['sum_read_counter'].sum()\\\n",
    "                        .reset_index()\\\n",
    "                        .sort_values('read_event_date')\n",
    "        df = df[df['read_event_date'] <= '2022-06-01']\n",
    "        df = df[df['read_event_date'] > '2021-10-01']\n",
    "\n",
    "        df = df[df['org_id'].map(df['org_id'].value_counts()) == 8]\\\n",
    "                                    .reset_index(drop = True)\n",
    "        \n",
    "    else:\n",
    "        df['write_event_date'] = pd.to_datetime(df['write_event_date']) - pd.to_timedelta(7, unit='d')\n",
    "        df = df.groupby(['org_id', pd.Grouper(key='write_event_date', freq='MS')])['sum_write_counter'].sum()\\\n",
    "                        .reset_index()\\\n",
    "                        .sort_values('write_event_date')\n",
    "        \n",
    "        df = df[df['write_event_date'] <= '2022-06-01']\n",
    "        df = df[df['write_event_date'] > '2021-10-01']\n",
    "\n",
    "        df = df[df['org_id'].map(df['org_id'].value_counts()) == 8]\\\n",
    "                                    .reset_index(drop = True)\n",
    "        \n",
    "\n",
    "        \n",
    "    return df\n",
    "    \n",
    "reads_overall_data = create_monthly(reads_data)"
   ]
  },
  {
   "cell_type": "code",
   "execution_count": 5,
   "id": "56cb6a4a",
   "metadata": {},
   "outputs": [],
   "source": [
    "## Create Usage Last Month Predictive Feature \n",
    "\n",
    "def create_predictive_features(dataset, grain = 'reads'):\n",
    "    \n",
    "    df = dataset.copy()\n",
    "    \n",
    "    if grain == 'reads':\n",
    "        df = df.sort_values(by = ['read_event_date','org_id'], ascending = True).reset_index(drop = True)\n",
    "        df['usage_last_month'] = df.groupby('org_id')['sum_read_counter'].shift(1)\n",
    "\n",
    "        \n",
    "    else:\n",
    "        \n",
    "        df = df.sort_values(by = ['write_event_date','org_id'], ascending = True).reset_index(drop = True)\n",
    "        df['usage_last_month'] = df.groupby('org_id')['sum_write_counter'].shift(1)\n",
    "\n",
    "    return df \n",
    "\n",
    "\n",
    "reads_overall_data_features = create_predictive_features(reads_overall_data)"
   ]
  },
  {
   "cell_type": "code",
   "execution_count": 6,
   "id": "c6d03226",
   "metadata": {},
   "outputs": [],
   "source": [
    "## Seperate the data into training and testing sets \n",
    "\n",
    "reads_training_data_w_features = reads_overall_data_features[reads_overall_data_features['read_event_date'] <= '2022-02-01']\n",
    "reads_training_data_w_features = reads_overall_data_features[reads_overall_data_features['read_event_date'] >= '2022-01-01']\n",
    "reads_testing_data_w_features = reads_overall_data_features[reads_overall_data_features['read_event_date'] >= '2022-03-01']"
   ]
  },
  {
   "cell_type": "code",
   "execution_count": 7,
   "id": "53898742",
   "metadata": {},
   "outputs": [
    {
     "data": {
      "image/png": "[encoded data removed]",
      "text/plain": [
       "<Figure size 1080x720 with 2 Axes>"
      ]
     },
     "metadata": {
      "needs_background": "light"
     },
     "output_type": "display_data"
    }
   ],
   "source": [
    "#Find the Correlation \n",
    "\n",
    "def correlation(data):\n",
    "    \n",
    "    plt.figure(figsize = (15,10))\n",
    "    \n",
    "    corrMatrix = data.corr()\n",
    "    sns.heatmap(corrMatrix, annot=True)\n",
    "    plt.show()\n",
    "    \n",
    "correlation(reads_training_data_w_features)"
   ]
  },
  {
   "cell_type": "code",
   "execution_count": 8,
   "id": "9d60bfe4",
   "metadata": {},
   "outputs": [],
   "source": [
    "#Function to impute the mean (not used in the final model)\n",
    "def mean(data,col):\n",
    "    \n",
    "    df = data.copy()\n",
    "    col_mean = df[col].mean()\n",
    "    df[col] = df[col].fillna(col_mean)\n",
    "    \n",
    "    return df\n"
   ]
  },
  {
   "cell_type": "code",
   "execution_count": 9,
   "id": "ce43b741",
   "metadata": {},
   "outputs": [],
   "source": [
    "##Create the ML Model \n",
    "\n",
    "def create_model(train_df, test_df, grain = 'reads'):\n",
    "    \n",
    "    '''this function takes the TS data and predicts the next month. \n",
    "       After predicting the 1st month, it uses the predictions as input to the model \n",
    "       to predict for current month + 2 and ultimtely current month + 3.'''\n",
    "    \n",
    "    \n",
    "    md1 = RandomForestRegressor(n_estimators = 1000, random_state = 0, n_jobs = 10)\n",
    "    imputer = SimpleImputer()\n",
    "    \n",
    "    if grain == 'reads':\n",
    "        features = ['usage_last_month']\n",
    "\n",
    "        preds = pd.DataFrame()\n",
    "    \n",
    "        dates = ['2022-03-01', '2022-04-01','2022-05-01']\n",
    "    \n",
    "        for d in dates:\n",
    "            print('---')\n",
    "            print(d)\n",
    "            print('---')\n",
    "            test = test_df.loc[(test_df['read_event_date'] == d)]\n",
    "            if d > '2022-03-01':\n",
    "                del test['usage_last_month']\n",
    "                test = test.merge(next_fx, on = 'org_id', how = 'inner').rename(columns = {'predicted_values':'usage_last_month'})\n",
    "            \n",
    "            next_fx = pd.DataFrame()\n",
    "        \n",
    "            for i in train_df['org_id'].unique():\n",
    "                train_temp = train_df.loc[(train_df['org_id'] == i)]\n",
    "                test_temp = test.loc[(test['org_id'] == i)]\n",
    "                Xtr = train_temp[features]\n",
    "                ytr = train_temp['sum_read_counter']\n",
    "                X_test = test_temp[features]\n",
    "                y_test = test_temp['sum_read_counter']\n",
    "                md1.fit(Xtr,ytr)\n",
    "                p = md1.predict(X_test)\n",
    "                test_temp['predicted_values'] = p\n",
    "                t = test_temp[['org_id','predicted_values']]\n",
    "                next_fx = next_fx.append(t)\n",
    "                preds = preds.append(test_temp)\n",
    "                \n",
    "    else:\n",
    "        features = ['usage_last_month']\n",
    "        preds = pd.DataFrame()\n",
    "    \n",
    "        dates = ['2022-03-01', '2022-04-01','2022-05-01']\n",
    "    \n",
    "        for d in dates:\n",
    "            print('---')\n",
    "            print(d)\n",
    "            print('---')\n",
    "            test = test_df.loc[(test_df['write_event_date'] == d)]\n",
    "            if d > '2022-03-01':\n",
    "                del test['usage_last_month']\n",
    "                test = test.merge(next_fx, on = 'org_id', how = 'inner').rename(columns = {'predicted_values':'usage_last_month'})\n",
    "            \n",
    "            next_fx = pd.DataFrame()\n",
    "        \n",
    "            for i in train_df['org_id'].unique():\n",
    "                train_temp = train_df.loc[(train_df['org_id'] == i)]\n",
    "                test_temp = test.loc[(test['org_id'] == i)]\n",
    "                Xtr = train_temp[features]\n",
    "                ytr = train_temp['sum_write_counter']\n",
    "                X_test = test_temp[features]\n",
    "                y_test = test_temp['sum_write_counter']\n",
    "                md1.fit(Xtr,ytr)\n",
    "                p = md1.predict(X_test)\n",
    "                test_temp['predicted_values'] = p\n",
    "                t = test_temp[['org_id','predicted_values']]\n",
    "                next_fx = next_fx.append(t)\n",
    "                preds = preds.append(test_temp)    \n",
    "\n",
    "    \n",
    "    return preds\n"
   ]
  },
  {
   "cell_type": "code",
   "execution_count": null,
   "id": "6d0948f0",
   "metadata": {},
   "outputs": [
    {
     "name": "stdout",
     "output_type": "stream",
     "text": [
      "---\n",
      "2022-03-01\n",
      "---\n"
     ]
    }
   ],
   "source": [
    "## Run the model on the reads dataset \n",
    "\n",
    "prediction_df_reads = create_model(reads_training_data_w_features,reads_testing_data_w_features)\n",
    "prediction_df_reads = prediction_df_reads.sort_values(by = ['org_id','read_event_date'], ascending = True)\n",
    "prediction_df_reads = prediction_df_reads.groupby('org_id')['sum_read_counter','predicted_values'].sum().reset_index()\n",
    "\n",
    "#prediction_df = prediction_df[prediction_df['sum_read_counter'] > 5000] ## this decreased MAPE significantly\n",
    "\n",
    "prediction_df_reads.head()"
   ]
  },
  {
   "cell_type": "code",
   "execution_count": null,
   "id": "ce263a7c",
   "metadata": {},
   "outputs": [],
   "source": [
    "## Functions to calculate MAPE and WAPE for our predictions \n",
    "\n",
    "def mape(y_true, y_pred):\n",
    "    ape = np.abs((y_true - y_pred)/ y_true)\n",
    "    \n",
    "    return np.mean(ape)\n",
    "\n",
    "def wmape(y_true,y_pred):\n",
    "    return np.sum(np.abs(y_true - y_pred) / np.sum(np.abs(y_true)))\n",
    "wmape(prediction_df_reads['sum_read_counter'],prediction_df_reads['predicted_values'])\n"
   ]
  },
  {
   "cell_type": "code",
   "execution_count": null,
   "id": "47ec6eee",
   "metadata": {},
   "outputs": [],
   "source": [
    "##########Begin Writes Data\n",
    "\n",
    "#Writes Dataset Autocorrelation \n",
    "\n",
    "measure_autocorrelation(writes_data, grain = 'writes')"
   ]
  },
  {
   "cell_type": "code",
   "execution_count": null,
   "id": "9804edb2",
   "metadata": {},
   "outputs": [],
   "source": [
    "#Turn Writes data into a monthly Time Series \n",
    "writes_overall_data = create_monthly(writes_data, grain = 'writes')"
   ]
  },
  {
   "cell_type": "code",
   "execution_count": null,
   "id": "737fbe1c",
   "metadata": {},
   "outputs": [],
   "source": [
    "# Create Writes predictive features and seperate into training and testing sets \n",
    "\n",
    "writes_overall_data_features = create_predictive_features(writes_overall_data, grain = 'writes')\n",
    "writes_training_data_w_features = writes_overall_data_features[writes_overall_data_features['write_event_date'] <= '2022-02-01']\n",
    "writes_training_data_w_features = writes_overall_data_features[writes_overall_data_features['write_event_date'] >= '2022-01-01']\n",
    "writes_testing_data_w_features = writes_overall_data_features[writes_overall_data_features['write_event_date'] >= '2022-03-01']"
   ]
  },
  {
   "cell_type": "code",
   "execution_count": null,
   "id": "f1ab2e18",
   "metadata": {},
   "outputs": [],
   "source": [
    "#Find the Correlation \n",
    "\n",
    "def correlation(data):\n",
    "    \n",
    "    plt.figure(figsize = (15,10))\n",
    "    \n",
    "    corrMatrix = data.corr()\n",
    "    sns.heatmap(corrMatrix, annot=True)\n",
    "    plt.show()\n",
    "    \n",
    "correlation(writes_training_data_w_features)"
   ]
  },
  {
   "cell_type": "code",
   "execution_count": null,
   "id": "f04bd5ad",
   "metadata": {},
   "outputs": [],
   "source": [
    "##Run the model to make predictions on the writes data \n",
    "\n",
    "prediction_df_writes = create_model(writes_training_data_w_features,writes_testing_data_w_features, grain = 'writes')\n",
    "prediction_df_writes = prediction_df_writes.sort_values(by = ['org_id','write_event_date'], ascending = True)\n",
    "prediction_df_writes = prediction_df_writes.groupby('org_id')['sum_write_counter','predicted_values'].sum().reset_index()\n",
    "#prediction_df = prediction_df[prediction_df['sum_write_counter'] > 5000]\n",
    "prediction_df_writes.head()"
   ]
  },
  {
   "cell_type": "code",
   "execution_count": null,
   "id": "f6d763ff",
   "metadata": {},
   "outputs": [],
   "source": [
    "## Evaluate the WAPE of the writes predictions \n",
    "\n",
    "wmape(prediction_df_writes['sum_write_counter'],prediction_df_writes['predicted_values'])"
   ]
  },
  {
   "cell_type": "code",
   "execution_count": null,
   "id": "55cc2219",
   "metadata": {},
   "outputs": [],
   "source": [
    "def calculate_results(predictions, grain = 'reads'):\n",
    "\n",
    "    '''Function to Calculate the actual CLV and the Predicted CLV using the unit-cost for reads and writes'''\n",
    "    \n",
    "    # calculate unit cost \n",
    "    \n",
    "    if grain == 'reads':\n",
    "        \n",
    "        predictions['total_org_cost'] =(predictions['sum_read_counter']/1000000)* 0.33\n",
    "        predictions['predicted_org_cost'] = (predictions['predicted_values']/1000000)* 0.33\n",
    "\n",
    "        \n",
    "    else:\n",
    "        \n",
    "        predictions['total_org_cost'] =(predictions['sum_write_counter']/1000000)* 0.33\n",
    "        predictions['predicted_org_cost'] = (predictions['predicted_values']/1000000)* 0.33\n",
    "    \n",
    "    return predictions[['org_id','total_org_cost','predicted_org_cost']]\n",
    "\n",
    "reads_cost = calculate_results(prediction_df_reads)\n",
    "writes_cost = calculate_results(prediction_df_writes, grain = 'writes')"
   ]
  },
  {
   "cell_type": "code",
   "execution_count": null,
   "id": "ea7ce4da",
   "metadata": {},
   "outputs": [],
   "source": [
    "def get_overall_clv(dataset_reads,dataset_writes):\n",
    "    \n",
    "    '''Function to combine the reads and writes predictions, then get the overall error between\n",
    "       predicted CLV and actual CLV'''\n",
    "    \n",
    "    overall_df = dataset_reads.append(dataset_writes)\n",
    "    overall_df = overall_df.groupby(['org_id'])['total_org_cost','predicted_org_cost'].sum().reset_index()\n",
    "    \n",
    "    print('overall model error:', wmape(overall_df['total_org_cost'],overall_df['predicted_org_cost']))\n",
    "    print('overall model accuracy:', 1 - (wmape(overall_df['total_org_cost'],overall_df['predicted_org_cost'])))\n",
    "    return overall_df\n",
    "\n",
    "overall_results = get_overall_clv(reads_cost, writes_cost)\n",
    "#print('Mape error:',mape(overall_results['total_org_cost'],overall_results['predicted_org_cost']))"
   ]
  },
  {
   "cell_type": "code",
   "execution_count": null,
   "id": "6f1859c2",
   "metadata": {},
   "outputs": [],
   "source": [
    "def point_analysis(dataset_reads, dataset_writes, usage = 5000):\n",
    "    \n",
    "    '''Function to identify points with high error'''\n",
    "    \n",
    "    df_r = dataset_reads[['org_id','sum_read_counter','predicted_values']].rename(columns = {'sum_read_counter':'sum_counter'})\n",
    "    df_w = dataset_writes[['org_id','sum_write_counter','predicted_values']].rename(columns = {'sum_write_counter':'sum_counter'})\n",
    "    \n",
    "    df_t = df_r.append(df_w)\n",
    "    df_t = df_t.groupby(['org_id'])['sum_counter','predicted_values'].sum().reset_index()\n",
    "    \n",
    "    mape_e = []\n",
    "    for i,v in list(zip(df_t['sum_counter'],df_t['predicted_values'])):\n",
    "        mape_e.append(mape(i,v))\n",
    "    df_t['error'] = mape_e\n",
    "    \n",
    "    return df_t\n",
    "\n",
    "point_analysis(prediction_df_reads, prediction_df_writes)"
   ]
  },
  {
   "cell_type": "code",
   "execution_count": null,
   "id": "d1d69a36",
   "metadata": {},
   "outputs": [],
   "source": [
    "#Take a sample of y_pred vs y_true and plot it\n",
    "\n",
    "def plot_act_vs_pred(y_hat, y_real):\n",
    "    \n",
    "    '''Plot some sample points for predicted vs actual values'''\n",
    "\n",
    "    plot_data = pd.DataFrame()\n",
    "    \n",
    "    y_labels = y_real\n",
    "\n",
    "    plot_data['y_predicted'] = list(y_hat)\n",
    "    plot_data['y_actual'] = list(y_real)\n",
    "    \n",
    "    #take a random sample for ease of interpretation \n",
    "    \n",
    "    plot_data = plot_data.sample(15).reset_index(drop = True)\n",
    "    \n",
    "    fig1= px.line(plot_data,y = 'y_predicted', width = 800, height = 500)\n",
    "    fig1.update_traces(line=dict(color = 'red'))\n",
    "\n",
    "    fig2= px.scatter(plot_data, y = 'y_actual', width = 800, height = 500)\n",
    "\n",
    "    fig3 = go.Figure(data=fig1.data + fig2.data)\n",
    "    \n",
    "    fig3.update_layout(\n",
    "    autosize=False,\n",
    "    width=1050,\n",
    "    height=800,\n",
    "    showlegend= True,\n",
    "    title_text='Predicted vs Observed Values', title_x=0.5)\n",
    "    \n",
    "    \n",
    "    fig3.show()\n",
    "    \n",
    "    print('Sample Data: ------------------------------------------------------------')\n",
    "    \n",
    "    print(plot_data.head(10))\n",
    "    \n",
    "\n",
    "plot_act_vs_pred(overall_results['predicted_org_cost'], overall_results['total_org_cost'])"
   ]
  }
 ],
 "metadata": {
  "kernelspec": {
   "display_name": "Python 3",
   "language": "python",
   "name": "python3"
  },
  "language_info": {
   "codemirror_mode": {
    "name": "ipython",
    "version": 3
   },
   "file_extension": ".py",
   "mimetype": "text/x-python",
   "name": "python",
   "nbconvert_exporter": "python",
   "pygments_lexer": "ipython3",
   "version": "3.8.8"
  }
 },
 "nbformat": 4,
 "nbformat_minor": 5
}
