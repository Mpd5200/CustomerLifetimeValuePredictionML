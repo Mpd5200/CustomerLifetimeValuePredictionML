{
 "cells": [
  {
   "cell_type": "code",
   "execution_count": 1,
   "id": "8f4fed2c",
   "metadata": {},
   "outputs": [],
   "source": [
    "#import dependencies \n",
    "import pandas as pd\n",
    "import plotly.express as px\n",
    "import numpy as np \n",
    "import matplotlib.pyplot as plt\n",
    "import seaborn as sns\n",
    "from sklearn.metrics import r2_score\n",
    "from sklearn.linear_model import LinearRegression\n",
    "from sklearn.model_selection import train_test_split\n",
    "import math\n",
    "from sklearn.ensemble import GradientBoostingRegressor\n",
    "from sklearn.model_selection import GridSearchCV\n",
    "from sklearn.metrics import mean_squared_error\n",
    "import plotly.graph_objects as go\n",
    "import scipy.stats as stats\n",
    "from scipy.special import inv_boxcox \n",
    "from sklearn.preprocessing import OneHotEncoder\n",
    "import warnings \n",
    "from datetime import datetime, timedelta\n",
    "from sklearn.model_selection import train_test_split\n",
    "from prophet import Prophet\n",
    "from time import time \n",
    "from statsmodels.graphics.tsaplots import plot_acf\n",
    "import matplotlib.pyplot as plt\n",
    "import seaborn as sns \n",
    "from sklearn.impute import SimpleImputer\n",
    "from sklearn.ensemble import RandomForestRegressor, GradientBoostingRegressor\n",
    "import time \n",
    "warnings.filterwarnings(\"ignore\")"
   ]
  },
  {
   "cell_type": "code",
   "execution_count": 2,
   "id": "2190ae0b",
   "metadata": {},
   "outputs": [],
   "source": [
    "####### time-series ########\n",
    "\n",
    "pd.set_option('display.float_format', lambda x: '%.3f' % x)\n",
    "\n",
    "summary_data = pd.read_csv('../../data/source/gt_omsa__org_usage_summary.csv')\n",
    "reads_data = pd.read_csv('../../data/source/gt_omsa__daily_read_events.csv')\n",
    "writes_data = pd.read_csv('../../data/source/gt_omsa__daily_write_events.csv')\n"
   ]
  },
  {
   "cell_type": "code",
   "execution_count": 3,
   "id": "0d140eab",
   "metadata": {},
   "outputs": [
    {
     "data": {
      "image/png": "[encoded data removed]",
      "text/plain": [
       "<Figure size 432x288 with 1 Axes>"
      ]
     },
     "metadata": {
      "needs_background": "light"
     },
     "output_type": "display_data"
    }
   ],
   "source": [
    "## Measure Reads Auto-Correlation \n",
    "\n",
    "def measure_autocorrelation(data, grain = 'reads'):\n",
    "    \n",
    "    df = data.copy()\n",
    "    \n",
    "    if grain == 'reads':\n",
    "    \n",
    "        df['read_event_date'] = pd.to_datetime(df['read_event_date']) - pd.to_timedelta(7, unit='d')\n",
    "        df = df.groupby(['org_id', pd.Grouper(key='read_event_date', freq='MS')])['sum_read_counter'].sum()        .reset_index()        .sort_values('read_event_date')\n",
    "\n",
    "        df = df.groupby('read_event_date')['sum_read_counter'].sum().reset_index()\n",
    "        plot_acf(x=df['sum_read_counter'], lags=17)\n",
    "        plt.show()\n",
    "        \n",
    "    else:\n",
    "        \n",
    "        df['write_event_date'] = pd.to_datetime(df['write_event_date']) - pd.to_timedelta(7, unit='d')\n",
    "        df = df.groupby(['org_id', pd.Grouper(key='write_event_date', freq='W-MON')])['sum_write_counter'].sum()        .reset_index()        .sort_values('write_event_date')\n",
    "\n",
    "        df = df.groupby('write_event_date')['sum_write_counter'].sum().reset_index()\n",
    "        plot_acf(x=df['sum_write_counter'], lags=17)\n",
    "        plt.show()\n",
    "\n",
    "measure_autocorrelation(reads_data, grain = 'reads')"
   ]
  },
  {
   "cell_type": "code",
   "execution_count": 4,
   "id": "6cece9ca",
   "metadata": {},
   "outputs": [],
   "source": [
    "## Turn the data into a time\n",
    "def create_monthly(dataset, grain = 'reads'):\n",
    "    \n",
    "    df = dataset.copy()\n",
    "    \n",
    "    if grain == 'reads':\n",
    "        \n",
    "        df['read_event_date'] = pd.to_datetime(df['read_event_date']) - pd.to_timedelta(7, unit='d')\n",
    "        df = df.groupby(['org_id', pd.Grouper(key='read_event_date', freq='MS')])['sum_read_counter'].sum()\\\n",
    "                        .reset_index()\\\n",
    "                        .sort_values('read_event_date')\n",
    "        df = df[df['read_event_date'] <= '2022-06-01']\n",
    "        df = df[df['read_event_date'] > '2021-10-01']\n",
    "\n",
    "        df = df[df['org_id'].map(df['org_id'].value_counts()) == 8]\\\n",
    "                                    .reset_index(drop = True)\n",
    "        \n",
    "    else:\n",
    "        df['write_event_date'] = pd.to_datetime(df['write_event_date']) - pd.to_timedelta(7, unit='d')\n",
    "        df = df.groupby(['org_id', pd.Grouper(key='write_event_date', freq='MS')])['sum_write_counter'].sum()\\\n",
    "                        .reset_index()\\\n",
    "                        .sort_values('write_event_date')\n",
    "        \n",
    "        df = df[df['write_event_date'] <= '2022-06-01']\n",
    "        df = df[df['write_event_date'] > '2021-10-01']\n",
    "\n",
    "        df = df[df['org_id'].map(df['org_id'].value_counts()) == 8]\\\n",
    "                                    .reset_index(drop = True)\n",
    "        \n",
    "\n",
    "        \n",
    "    return df\n",
    "    \n",
    "reads_overall_data = create_monthly(reads_data)"
   ]
  },
  {
   "cell_type": "code",
   "execution_count": 5,
   "id": "56cb6a4a",
   "metadata": {},
   "outputs": [],
   "source": [
    "def create_predictive_features(dataset, grain = 'reads'):\n",
    "    \n",
    "    df = dataset.copy()\n",
    "    \n",
    "    if grain == 'reads':\n",
    "        df = df.sort_values(by = ['read_event_date','org_id'], ascending = True).reset_index(drop = True)\n",
    "        df['usage_last_month'] = df.groupby('org_id')['sum_read_counter'].shift(1)\n",
    "\n",
    "        \n",
    "    else:\n",
    "        \n",
    "        df = df.sort_values(by = ['write_event_date','org_id'], ascending = True).reset_index(drop = True)\n",
    "        df['usage_last_month'] = df.groupby('org_id')['sum_write_counter'].shift(1)\n",
    "\n",
    "    return df \n",
    "\n",
    "\n",
    "reads_overall_data_features = create_predictive_features(reads_overall_data)"
   ]
  },
  {
   "cell_type": "code",
   "execution_count": 6,
   "id": "c6d03226",
   "metadata": {},
   "outputs": [],
   "source": [
    "reads_training_data_w_features = reads_overall_data_features[reads_overall_data_features['read_event_date'] <= '2022-02-01']\n",
    "reads_training_data_w_features = reads_overall_data_features[reads_overall_data_features['read_event_date'] >= '2022-01-01']\n",
    "reads_testing_data_w_features = reads_overall_data_features[reads_overall_data_features['read_event_date'] >= '2022-03-01']"
   ]
  },
  {
   "cell_type": "code",
   "execution_count": 7,
   "id": "53898742",
   "metadata": {},
   "outputs": [
    {
     "data": {
      "image/png": "[encoded data removed]",
      "text/plain": [
       "<Figure size 1080x720 with 2 Axes>"
      ]
     },
     "metadata": {
      "needs_background": "light"
     },
     "output_type": "display_data"
    }
   ],
   "source": [
    "#Find the Correlation \n",
    "\n",
    "def correlation(data):\n",
    "    \n",
    "    plt.figure(figsize = (15,10))\n",
    "    \n",
    "    corrMatrix = data.corr()\n",
    "    sns.heatmap(corrMatrix, annot=True)\n",
    "    plt.show()\n",
    "    \n",
    "correlation(reads_training_data_w_features)"
   ]
  },
  {
   "cell_type": "code",
   "execution_count": 8,
   "id": "9d60bfe4",
   "metadata": {},
   "outputs": [],
   "source": [
    "def mean(data,col):\n",
    "    \n",
    "    df = data.copy()\n",
    "    col_mean = df[col].mean()\n",
    "    df[col] = df[col].fillna(col_mean)\n",
    "    \n",
    "    return df\n"
   ]
  },
  {
   "cell_type": "code",
   "execution_count": 23,
   "id": "ce43b741",
   "metadata": {},
   "outputs": [],
   "source": [
    "def create_model(train_df, test_df, grain = 'reads'):\n",
    "    \n",
    "    \n",
    "    md1 = RandomForestRegressor(n_estimators = 1000, random_state = 0, n_jobs = 10)\n",
    "    imputer = SimpleImputer()\n",
    "    \n",
    "    if grain == 'reads':\n",
    "        features = ['usage_last_month']\n",
    "\n",
    "        preds = pd.DataFrame()\n",
    "    \n",
    "        dates = ['2022-03-01', '2022-04-01','2022-05-01']\n",
    "    \n",
    "        for d in dates:\n",
    "            print('---')\n",
    "            print(d)\n",
    "            print('---')\n",
    "            test = test_df.loc[(test_df['read_event_date'] == d)]\n",
    "            if d > '2022-03-01':\n",
    "                del test['usage_last_month']\n",
    "                test = test.merge(next_fx, on = 'org_id', how = 'inner').rename(columns = {'predicted_values':'usage_last_month'})\n",
    "            \n",
    "            next_fx = pd.DataFrame()\n",
    "        \n",
    "            for i in train_df['org_id'].unique():\n",
    "                train_temp = train_df.loc[(train_df['org_id'] == i)]\n",
    "                test_temp = test.loc[(test['org_id'] == i)]\n",
    "                Xtr = train_temp[features]\n",
    "                ytr = train_temp['sum_read_counter']\n",
    "                X_test = test_temp[features]\n",
    "                y_test = test_temp['sum_read_counter']\n",
    "                md1.fit(Xtr,ytr)\n",
    "                p = md1.predict(X_test)\n",
    "                test_temp['predicted_values'] = p\n",
    "                t = test_temp[['org_id','predicted_values']]\n",
    "                next_fx = next_fx.append(t)\n",
    "                preds = preds.append(test_temp)\n",
    "                \n",
    "    else:\n",
    "        features = ['usage_last_month']\n",
    "        preds = pd.DataFrame()\n",
    "    \n",
    "        dates = ['2022-03-01', '2022-04-01','2022-05-01']\n",
    "    \n",
    "        for d in dates:\n",
    "            print('---')\n",
    "            print(d)\n",
    "            print('---')\n",
    "            test = test_df.loc[(test_df['write_event_date'] == d)]\n",
    "            if d > '2022-03-01':\n",
    "                del test['usage_last_month']\n",
    "                test = test.merge(next_fx, on = 'org_id', how = 'inner').rename(columns = {'predicted_values':'usage_last_month'})\n",
    "            \n",
    "            next_fx = pd.DataFrame()\n",
    "        \n",
    "            for i in train_df['org_id'].unique():\n",
    "                train_temp = train_df.loc[(train_df['org_id'] == i)]\n",
    "                test_temp = test.loc[(test['org_id'] == i)]\n",
    "                Xtr = train_temp[features]\n",
    "                ytr = train_temp['sum_write_counter']\n",
    "                X_test = test_temp[features]\n",
    "                y_test = test_temp['sum_write_counter']\n",
    "                md1.fit(Xtr,ytr)\n",
    "                p = md1.predict(X_test)\n",
    "                test_temp['predicted_values'] = p\n",
    "                t = test_temp[['org_id','predicted_values']]\n",
    "                next_fx = next_fx.append(t)\n",
    "                preds = preds.append(test_temp)    \n",
    "\n",
    "    \n",
    "    return preds\n"
   ]
  },
  {
   "cell_type": "code",
   "execution_count": 10,
   "id": "6d0948f0",
   "metadata": {},
   "outputs": [
    {
     "name": "stdout",
     "output_type": "stream",
     "text": [
      "---\n",
      "2022-03-01\n",
      "---\n",
      "---\n",
      "2022-04-01\n",
      "---\n",
      "---\n",
      "2022-05-01\n",
      "---\n"
     ]
    },
    {
     "data": {
      "text/html": [
       "<div>\n",
       "<style scoped>\n",
       "    .dataframe tbody tr th:only-of-type {\n",
       "        vertical-align: middle;\n",
       "    }\n",
       "\n",
       "    .dataframe tbody tr th {\n",
       "        vertical-align: top;\n",
       "    }\n",
       "\n",
       "    .dataframe thead th {\n",
       "        text-align: right;\n",
       "    }\n",
       "</style>\n",
       "<table border=\"1\" class=\"dataframe\">\n",
       "  <thead>\n",
       "    <tr style=\"text-align: right;\">\n",
       "      <th></th>\n",
       "      <th>org_id</th>\n",
       "      <th>sum_read_counter</th>\n",
       "      <th>predicted_values</th>\n",
       "    </tr>\n",
       "  </thead>\n",
       "  <tbody>\n",
       "    <tr>\n",
       "      <th>0</th>\n",
       "      <td>015ac32c-39e7-4a0a-a065-7841f8281804</td>\n",
       "      <td>2031</td>\n",
       "      <td>6845.586</td>\n",
       "    </tr>\n",
       "    <tr>\n",
       "      <th>1</th>\n",
       "      <td>01d2bda2-ca33-4316-9953-1a0f5f79f5a6</td>\n",
       "      <td>536</td>\n",
       "      <td>368.254</td>\n",
       "    </tr>\n",
       "    <tr>\n",
       "      <th>2</th>\n",
       "      <td>0248121f-b1bf-4731-90f5-9a563dfe7489</td>\n",
       "      <td>1012871</td>\n",
       "      <td>256156.565</td>\n",
       "    </tr>\n",
       "    <tr>\n",
       "      <th>3</th>\n",
       "      <td>04831f55-5e0c-433b-8000-471203a07ec6</td>\n",
       "      <td>381355461</td>\n",
       "      <td>345057657.317</td>\n",
       "    </tr>\n",
       "    <tr>\n",
       "      <th>4</th>\n",
       "      <td>06333d09-0bb2-4d99-a8c4-19ef7b336fd8</td>\n",
       "      <td>4375745</td>\n",
       "      <td>2986624.250</td>\n",
       "    </tr>\n",
       "  </tbody>\n",
       "</table>\n",
       "</div>"
      ],
      "text/plain": [
       "                                 org_id  sum_read_counter  predicted_values\n",
       "0  015ac32c-39e7-4a0a-a065-7841f8281804              2031          6845.586\n",
       "1  01d2bda2-ca33-4316-9953-1a0f5f79f5a6               536           368.254\n",
       "2  0248121f-b1bf-4731-90f5-9a563dfe7489           1012871        256156.565\n",
       "3  04831f55-5e0c-433b-8000-471203a07ec6         381355461     345057657.317\n",
       "4  06333d09-0bb2-4d99-a8c4-19ef7b336fd8           4375745       2986624.250"
      ]
     },
     "execution_count": 10,
     "metadata": {},
     "output_type": "execute_result"
    }
   ],
   "source": [
    "prediction_df_reads = create_model(reads_training_data_w_features,reads_testing_data_w_features)\n",
    "prediction_df_reads = prediction_df_reads.sort_values(by = ['org_id','read_event_date'], ascending = True)\n",
    "prediction_df_reads = prediction_df_reads.groupby('org_id')['sum_read_counter','predicted_values'].sum().reset_index()\n",
    "#prediction_df = prediction_df[prediction_df['sum_read_counter'] > 5000]\n",
    "prediction_df_reads.head()"
   ]
  },
  {
   "cell_type": "code",
   "execution_count": 16,
   "id": "ce263a7c",
   "metadata": {},
   "outputs": [
    {
     "data": {
      "text/plain": [
       "0.10032736716464366"
      ]
     },
     "execution_count": 16,
     "metadata": {},
     "output_type": "execute_result"
    }
   ],
   "source": [
    "def mape(y_true, y_pred):\n",
    "    ape = np.abs((y_true - y_pred)/ y_true)\n",
    "    \n",
    "    return np.mean(ape)\n",
    "\n",
    "def wmape(y_true,y_pred):\n",
    "    return np.sum(np.abs(y_true - y_pred) / np.sum(np.abs(y_true)))\n",
    "wmape(prediction_df_reads['sum_read_counter'],prediction_df_reads['predicted_values'])\n"
   ]
  },
  {
   "cell_type": "code",
   "execution_count": 17,
   "id": "47ec6eee",
   "metadata": {},
   "outputs": [
    {
     "data": {
      "image/png": "[encoded data removed]",
      "text/plain": [
       "<Figure size 432x288 with 1 Axes>"
      ]
     },
     "metadata": {
      "needs_background": "light"
     },
     "output_type": "display_data"
    }
   ],
   "source": [
    "##########Begin Writes Data\n",
    "measure_autocorrelation(writes_data, grain = 'writes')"
   ]
  },
  {
   "cell_type": "code",
   "execution_count": 18,
   "id": "9804edb2",
   "metadata": {},
   "outputs": [],
   "source": [
    "writes_overall_data = create_monthly(writes_data, grain = 'writes')"
   ]
  },
  {
   "cell_type": "code",
   "execution_count": 19,
   "id": "737fbe1c",
   "metadata": {},
   "outputs": [],
   "source": [
    "writes_overall_data_features = create_predictive_features(writes_overall_data, grain = 'writes')\n",
    "writes_training_data_w_features = writes_overall_data_features[writes_overall_data_features['write_event_date'] <= '2022-02-01']\n",
    "writes_training_data_w_features = writes_overall_data_features[writes_overall_data_features['write_event_date'] >= '2022-01-01']\n",
    "writes_testing_data_w_features = writes_overall_data_features[writes_overall_data_features['write_event_date'] >= '2022-03-01']"
   ]
  },
  {
   "cell_type": "code",
   "execution_count": 20,
   "id": "f1ab2e18",
   "metadata": {},
   "outputs": [
    {
     "data": {
      "image/png": "[encoded data removed]",
      "text/plain": [
       "<Figure size 1080x720 with 2 Axes>"
      ]
     },
     "metadata": {
      "needs_background": "light"
     },
     "output_type": "display_data"
    }
   ],
   "source": [
    "#Find the Correlation \n",
    "\n",
    "def correlation(data):\n",
    "    \n",
    "    plt.figure(figsize = (15,10))\n",
    "    \n",
    "    corrMatrix = data.corr()\n",
    "    sns.heatmap(corrMatrix, annot=True)\n",
    "    plt.show()\n",
    "    \n",
    "correlation(writes_training_data_w_features)"
   ]
  },
  {
   "cell_type": "code",
   "execution_count": 24,
   "id": "f04bd5ad",
   "metadata": {},
   "outputs": [
    {
     "name": "stdout",
     "output_type": "stream",
     "text": [
      "---\n",
      "2022-03-01\n",
      "---\n",
      "---\n",
      "2022-04-01\n",
      "---\n",
      "---\n",
      "2022-05-01\n",
      "---\n"
     ]
    },
    {
     "data": {
      "text/html": [
       "<div>\n",
       "<style scoped>\n",
       "    .dataframe tbody tr th:only-of-type {\n",
       "        vertical-align: middle;\n",
       "    }\n",
       "\n",
       "    .dataframe tbody tr th {\n",
       "        vertical-align: top;\n",
       "    }\n",
       "\n",
       "    .dataframe thead th {\n",
       "        text-align: right;\n",
       "    }\n",
       "</style>\n",
       "<table border=\"1\" class=\"dataframe\">\n",
       "  <thead>\n",
       "    <tr style=\"text-align: right;\">\n",
       "      <th></th>\n",
       "      <th>org_id</th>\n",
       "      <th>sum_write_counter</th>\n",
       "      <th>predicted_values</th>\n",
       "    </tr>\n",
       "  </thead>\n",
       "  <tbody>\n",
       "    <tr>\n",
       "      <th>0</th>\n",
       "      <td>0fcd6ef6-bdfb-409c-b795-56cc2626b985</td>\n",
       "      <td>67237</td>\n",
       "      <td>62411.610</td>\n",
       "    </tr>\n",
       "    <tr>\n",
       "      <th>1</th>\n",
       "      <td>176bf007-4f1b-4619-8522-4d47bd1e8086</td>\n",
       "      <td>975445651116</td>\n",
       "      <td>994147206018.098</td>\n",
       "    </tr>\n",
       "    <tr>\n",
       "      <th>2</th>\n",
       "      <td>19417059-2c77-44aa-b210-994f268fe570</td>\n",
       "      <td>3818607285</td>\n",
       "      <td>1898899480.457</td>\n",
       "    </tr>\n",
       "    <tr>\n",
       "      <th>3</th>\n",
       "      <td>1946eb89-04c2-403e-bb69-d0fe5abe3b50</td>\n",
       "      <td>164538022</td>\n",
       "      <td>214063892.943</td>\n",
       "    </tr>\n",
       "    <tr>\n",
       "      <th>4</th>\n",
       "      <td>1958677f-bf06-4a9b-bf1e-077e7de2c029</td>\n",
       "      <td>140604</td>\n",
       "      <td>76751.505</td>\n",
       "    </tr>\n",
       "  </tbody>\n",
       "</table>\n",
       "</div>"
      ],
      "text/plain": [
       "                                 org_id  sum_write_counter  predicted_values\n",
       "0  0fcd6ef6-bdfb-409c-b795-56cc2626b985              67237         62411.610\n",
       "1  176bf007-4f1b-4619-8522-4d47bd1e8086       975445651116  994147206018.098\n",
       "2  19417059-2c77-44aa-b210-994f268fe570         3818607285    1898899480.457\n",
       "3  1946eb89-04c2-403e-bb69-d0fe5abe3b50          164538022     214063892.943\n",
       "4  1958677f-bf06-4a9b-bf1e-077e7de2c029             140604         76751.505"
      ]
     },
     "execution_count": 24,
     "metadata": {},
     "output_type": "execute_result"
    }
   ],
   "source": [
    "prediction_df_writes = create_model(writes_training_data_w_features,writes_testing_data_w_features, grain = 'writes')\n",
    "prediction_df_writes = prediction_df_writes.sort_values(by = ['org_id','write_event_date'], ascending = True)\n",
    "prediction_df_writes = prediction_df_writes.groupby('org_id')['sum_write_counter','predicted_values'].sum().reset_index()\n",
    "#prediction_df = prediction_df[prediction_df['sum_read_counter'] > 5000]\n",
    "prediction_df_writes.head()"
   ]
  },
  {
   "cell_type": "code",
   "execution_count": 26,
   "id": "f6d763ff",
   "metadata": {},
   "outputs": [
    {
     "data": {
      "text/plain": [
       "0.0576692354903308"
      ]
     },
     "execution_count": 26,
     "metadata": {},
     "output_type": "execute_result"
    }
   ],
   "source": [
    "wmape(prediction_df_writes['sum_write_counter'],prediction_df_writes['predicted_values'])"
   ]
  },
  {
   "cell_type": "code",
   "execution_count": 31,
   "id": "55cc2219",
   "metadata": {},
   "outputs": [],
   "source": [
    "def calculate_results(predictions, grain = 'reads'):\n",
    "\n",
    "\n",
    "    # calculate unit cost \n",
    "    \n",
    "    if grain == 'reads':\n",
    "        \n",
    "        predictions['total_org_cost'] =(predictions['sum_read_counter']/1000000)* 0.33\n",
    "        predictions['predicted_org_cost'] = (predictions['predicted_values']/1000000)* 0.33\n",
    "\n",
    "        \n",
    "    else:\n",
    "        \n",
    "        predictions['total_org_cost'] =(predictions['sum_write_counter']/1000000)* 0.33\n",
    "        predictions['predicted_org_cost'] = (predictions['predicted_values']/1000000)* 0.33\n",
    "    \n",
    "    return predictions[['org_id','total_org_cost','predicted_org_cost']]\n",
    "\n",
    "reads_cost = calculate_results(prediction_df_reads)\n",
    "writes_cost = calculate_results(prediction_df_writes, grain = 'writes')"
   ]
  },
  {
   "cell_type": "code",
   "execution_count": 41,
   "id": "ea7ce4da",
   "metadata": {},
   "outputs": [
    {
     "name": "stdout",
     "output_type": "stream",
     "text": [
      "overall model error: 0.06175910440436425\n",
      "overall model accuracy: 0.9382408955956357\n",
      "Mape error: 61.776864443520616\n"
     ]
    }
   ],
   "source": [
    "def get_overall_clv(dataset_reads,dataset_writes):\n",
    "    \n",
    "    \n",
    "    overall_df = dataset_reads.append(dataset_writes)\n",
    "    overall_df = overall_df.groupby(['org_id'])['total_org_cost','predicted_org_cost'].sum().reset_index()\n",
    "    \n",
    "    print('overall model error:', wmape(overall_df['total_org_cost'],overall_df['predicted_org_cost']))\n",
    "    print('overall model accuracy:', 1 - (wmape(overall_df['total_org_cost'],overall_df['predicted_org_cost'])))\n",
    "    return overall_df\n",
    "\n",
    "overall_results = get_overall_clv(reads_cost, writes_cost)\n",
    "print('Mape error:',mape(overall_results['total_org_cost'],overall_results['predicted_org_cost']))"
   ]
  },
  {
   "cell_type": "code",
   "execution_count": 69,
   "id": "6f1859c2",
   "metadata": {},
   "outputs": [
    {
     "data": {
      "text/html": [
       "<div>\n",
       "<style scoped>\n",
       "    .dataframe tbody tr th:only-of-type {\n",
       "        vertical-align: middle;\n",
       "    }\n",
       "\n",
       "    .dataframe tbody tr th {\n",
       "        vertical-align: top;\n",
       "    }\n",
       "\n",
       "    .dataframe thead th {\n",
       "        text-align: right;\n",
       "    }\n",
       "</style>\n",
       "<table border=\"1\" class=\"dataframe\">\n",
       "  <thead>\n",
       "    <tr style=\"text-align: right;\">\n",
       "      <th></th>\n",
       "      <th>org_id</th>\n",
       "      <th>sum_counter</th>\n",
       "      <th>predicted_values</th>\n",
       "      <th>error</th>\n",
       "    </tr>\n",
       "  </thead>\n",
       "  <tbody>\n",
       "    <tr>\n",
       "      <th>0</th>\n",
       "      <td>015ac32c-39e7-4a0a-a065-7841f8281804</td>\n",
       "      <td>2031</td>\n",
       "      <td>6845.586</td>\n",
       "      <td>2.371</td>\n",
       "    </tr>\n",
       "    <tr>\n",
       "      <th>13</th>\n",
       "      <td>1ca2c08f-3d99-4418-ac41-4bc342873204</td>\n",
       "      <td>330438</td>\n",
       "      <td>1385676.256</td>\n",
       "      <td>3.193</td>\n",
       "    </tr>\n",
       "    <tr>\n",
       "      <th>21</th>\n",
       "      <td>262a0ba1-cbd4-4f94-b24a-4cffc7487d93</td>\n",
       "      <td>70</td>\n",
       "      <td>170.460</td>\n",
       "      <td>1.435</td>\n",
       "    </tr>\n",
       "    <tr>\n",
       "      <th>44</th>\n",
       "      <td>53d84fdf-f0e2-4db7-b621-82f8ac9ee5cc</td>\n",
       "      <td>4780</td>\n",
       "      <td>11558525.554</td>\n",
       "      <td>2417.102</td>\n",
       "    </tr>\n",
       "    <tr>\n",
       "      <th>63</th>\n",
       "      <td>810c7a5a-1405-47e6-b429-7bb819df92d4</td>\n",
       "      <td>541</td>\n",
       "      <td>171704.243</td>\n",
       "      <td>316.383</td>\n",
       "    </tr>\n",
       "    <tr>\n",
       "      <th>67</th>\n",
       "      <td>8450392f-dd93-41af-9071-cf55623272d6</td>\n",
       "      <td>681760946</td>\n",
       "      <td>2603698204.427</td>\n",
       "      <td>2.819</td>\n",
       "    </tr>\n",
       "    <tr>\n",
       "      <th>72</th>\n",
       "      <td>8e9b17df-b1aa-4a30-8f72-99acdfd38459</td>\n",
       "      <td>9187</td>\n",
       "      <td>65274.118</td>\n",
       "      <td>6.105</td>\n",
       "    </tr>\n",
       "    <tr>\n",
       "      <th>93</th>\n",
       "      <td>bcefd389-287e-4c85-a2df-82f06f28d069</td>\n",
       "      <td>4099</td>\n",
       "      <td>8759.785</td>\n",
       "      <td>1.137</td>\n",
       "    </tr>\n",
       "    <tr>\n",
       "      <th>96</th>\n",
       "      <td>c3c7efa6-d487-4440-ab85-efc6341312b6</td>\n",
       "      <td>409</td>\n",
       "      <td>853.977</td>\n",
       "      <td>1.088</td>\n",
       "    </tr>\n",
       "    <tr>\n",
       "      <th>98</th>\n",
       "      <td>ca2fd34f-f8b4-4cbb-ab78-4f4ae24942ac</td>\n",
       "      <td>7224</td>\n",
       "      <td>41710.227</td>\n",
       "      <td>4.774</td>\n",
       "    </tr>\n",
       "    <tr>\n",
       "      <th>101</th>\n",
       "      <td>ced691af-26ac-437d-8911-ee826161a5be</td>\n",
       "      <td>2882741</td>\n",
       "      <td>68407928.545</td>\n",
       "      <td>22.730</td>\n",
       "    </tr>\n",
       "    <tr>\n",
       "      <th>103</th>\n",
       "      <td>d0d42446-80fb-4446-9944-f4fa100e1923</td>\n",
       "      <td>83003282</td>\n",
       "      <td>611775949.756</td>\n",
       "      <td>6.371</td>\n",
       "    </tr>\n",
       "    <tr>\n",
       "      <th>105</th>\n",
       "      <td>d31bc1a1-0a34-48a5-a11f-d77dcc2b2f25</td>\n",
       "      <td>265</td>\n",
       "      <td>1182.764</td>\n",
       "      <td>3.463</td>\n",
       "    </tr>\n",
       "    <tr>\n",
       "      <th>123</th>\n",
       "      <td>f9460f14-9879-4ebe-83f2-48d3f3dce13c</td>\n",
       "      <td>2848</td>\n",
       "      <td>14674058.199</td>\n",
       "      <td>5151.408</td>\n",
       "    </tr>\n",
       "  </tbody>\n",
       "</table>\n",
       "</div>"
      ],
      "text/plain": [
       "                                   org_id  sum_counter  predicted_values  \\\n",
       "0    015ac32c-39e7-4a0a-a065-7841f8281804         2031          6845.586   \n",
       "13   1ca2c08f-3d99-4418-ac41-4bc342873204       330438       1385676.256   \n",
       "21   262a0ba1-cbd4-4f94-b24a-4cffc7487d93           70           170.460   \n",
       "44   53d84fdf-f0e2-4db7-b621-82f8ac9ee5cc         4780      11558525.554   \n",
       "63   810c7a5a-1405-47e6-b429-7bb819df92d4          541        171704.243   \n",
       "67   8450392f-dd93-41af-9071-cf55623272d6    681760946    2603698204.427   \n",
       "72   8e9b17df-b1aa-4a30-8f72-99acdfd38459         9187         65274.118   \n",
       "93   bcefd389-287e-4c85-a2df-82f06f28d069         4099          8759.785   \n",
       "96   c3c7efa6-d487-4440-ab85-efc6341312b6          409           853.977   \n",
       "98   ca2fd34f-f8b4-4cbb-ab78-4f4ae24942ac         7224         41710.227   \n",
       "101  ced691af-26ac-437d-8911-ee826161a5be      2882741      68407928.545   \n",
       "103  d0d42446-80fb-4446-9944-f4fa100e1923     83003282     611775949.756   \n",
       "105  d31bc1a1-0a34-48a5-a11f-d77dcc2b2f25          265          1182.764   \n",
       "123  f9460f14-9879-4ebe-83f2-48d3f3dce13c         2848      14674058.199   \n",
       "\n",
       "       error  \n",
       "0      2.371  \n",
       "13     3.193  \n",
       "21     1.435  \n",
       "44  2417.102  \n",
       "63   316.383  \n",
       "67     2.819  \n",
       "72     6.105  \n",
       "93     1.137  \n",
       "96     1.088  \n",
       "98     4.774  \n",
       "101   22.730  \n",
       "103    6.371  \n",
       "105    3.463  \n",
       "123 5151.408  "
      ]
     },
     "execution_count": 69,
     "metadata": {},
     "output_type": "execute_result"
    }
   ],
   "source": [
    "def point_analysis(dataset_reads, dataset_writes, usage = 5000):\n",
    "    \n",
    "    df_r = dataset_reads[['org_id','sum_read_counter','predicted_values']].rename(columns = {'sum_read_counter':'sum_counter'})\n",
    "    df_w = dataset_writes[['org_id','sum_write_counter','predicted_values']].rename(columns = {'sum_write_counter':'sum_counter'})\n",
    "    \n",
    "    df_t = df_r.append(df_w)\n",
    "    df_t = df_t.groupby(['org_id'])['sum_counter','predicted_values'].sum().reset_index()\n",
    "    \n",
    "    #df_t = df_t.loc[(df_t['sum_counter'] >= usage)]\n",
    "    mape_e = []\n",
    "    for i,v in list(zip(df_t['sum_counter'],df_t['predicted_values'])):\n",
    "        mape_e.append(mape(i,v))\n",
    "    df_t['error'] = mape_e\n",
    "    \n",
    "    return df_t.loc[(df_t['error'] >= 1)]\n",
    "\n",
    "point_analysis(prediction_df_reads, prediction_df_writes)"
   ]
  },
  {
   "cell_type": "code",
   "execution_count": 38,
   "id": "d1d69a36",
   "metadata": {},
   "outputs": [
    {
     "data": {
      "application/vnd.plotly.v1+json": {
       "config": {
        "plotlyServerURL": "https://plot.ly"
       },
       "data": [
        {
         "hovertemplate": "index=%{x}<br>y_predicted=%{y}<extra></extra>",
         "legendgroup": "",
         "line": {
          "color": "red",
          "dash": "solid"
         },
         "marker": {
          "symbol": "circle"
         },
         "mode": "lines",
         "name": "",
         "orientation": "v",
         "showlegend": false,
         "type": "scatter",
         "x": [
          0,
          1,
          2,
          3,
          4,
          5,
          6,
          7,
          8,
          9,
          10,
          11,
          12,
          13,
          14
         ],
         "xaxis": "x",
         "y": [
          1436.9253118420202,
          9.703969468050001,
          18.98810253813,
          0.00010335501,
          2.27695899816,
          525.18942764541,
          5.290148529930001,
          554.83775688231,
          201.88606341948005,
          1.29897814101,
          0.0006931725900000001,
          0.0037319361089999995,
          1376.7279310844401,
          1.424808e-05,
          0.00028304397
         ],
         "yaxis": "y"
        },
        {
         "hovertemplate": "index=%{x}<br>y_actual=%{y}<extra></extra>",
         "legendgroup": "",
         "marker": {
          "color": "#636efa",
          "symbol": "circle"
         },
         "mode": "markers",
         "name": "",
         "orientation": "v",
         "showlegend": false,
         "type": "scatter",
         "x": [
          0,
          1,
          2,
          3,
          4,
          5,
          6,
          7,
          8,
          9,
          10,
          11,
          12,
          13,
          14
         ],
         "xaxis": "x",
         "y": [
          1533.40842732,
          8.64129948,
          22.13328942,
          0.00012309000000000002,
          5.6556291,
          536.75514453,
          5.7088145400000005,
          595.7109044700001,
          27.39108306,
          0.9504217799999999,
          0.00069102,
          0.0033158399999999996,
          1423.4184102600002,
          1.815e-05,
          0.00186879
         ],
         "yaxis": "y"
        }
       ],
       "layout": {
        "autosize": false,
        "height": 800,
        "showlegend": true,
        "template": {
         "data": {
          "bar": [
           {
            "error_x": {
             "color": "#2a3f5f"
            },
            "error_y": {
             "color": "#2a3f5f"
            },
            "marker": {
             "line": {
              "color": "#E5ECF6",
              "width": 0.5
             },
             "pattern": {
              "fillmode": "overlay",
              "size": 10,
              "solidity": 0.2
             }
            },
            "type": "bar"
           }
          ],
          "barpolar": [
           {
            "marker": {
             "line": {
              "color": "#E5ECF6",
              "width": 0.5
             },
             "pattern": {
              "fillmode": "overlay",
              "size": 10,
              "solidity": 0.2
             }
            },
            "type": "barpolar"
           }
          ],
          "carpet": [
           {
            "aaxis": {
             "endlinecolor": "#2a3f5f",
             "gridcolor": "white",
             "linecolor": "white",
             "minorgridcolor": "white",
             "startlinecolor": "#2a3f5f"
            },
            "baxis": {
             "endlinecolor": "#2a3f5f",
             "gridcolor": "white",
             "linecolor": "white",
             "minorgridcolor": "white",
             "startlinecolor": "#2a3f5f"
            },
            "type": "carpet"
           }
          ],
          "choropleth": [
           {
            "colorbar": {
             "outlinewidth": 0,
             "ticks": ""
            },
            "type": "choropleth"
           }
          ],
          "contour": [
           {
            "colorbar": {
             "outlinewidth": 0,
             "ticks": ""
            },
            "colorscale": [
             [
              0,
              "#0d0887"
             ],
             [
              0.1111111111111111,
              "#46039f"
             ],
             [
              0.2222222222222222,
              "#7201a8"
             ],
             [
              0.3333333333333333,
              "#9c179e"
             ],
             [
              0.4444444444444444,
              "#bd3786"
             ],
             [
              0.5555555555555556,
              "#d8576b"
             ],
             [
              0.6666666666666666,
              "#ed7953"
             ],
             [
              0.7777777777777778,
              "#fb9f3a"
             ],
             [
              0.8888888888888888,
              "#fdca26"
             ],
             [
              1,
              "#f0f921"
             ]
            ],
            "type": "contour"
           }
          ],
          "contourcarpet": [
           {
            "colorbar": {
             "outlinewidth": 0,
             "ticks": ""
            },
            "type": "contourcarpet"
           }
          ],
          "heatmap": [
           {
            "colorbar": {
             "outlinewidth": 0,
             "ticks": ""
            },
            "colorscale": [
             [
              0,
              "#0d0887"
             ],
             [
              0.1111111111111111,
              "#46039f"
             ],
             [
              0.2222222222222222,
              "#7201a8"
             ],
             [
              0.3333333333333333,
              "#9c179e"
             ],
             [
              0.4444444444444444,
              "#bd3786"
             ],
             [
              0.5555555555555556,
              "#d8576b"
             ],
             [
              0.6666666666666666,
              "#ed7953"
             ],
             [
              0.7777777777777778,
              "#fb9f3a"
             ],
             [
              0.8888888888888888,
              "#fdca26"
             ],
             [
              1,
              "#f0f921"
             ]
            ],
            "type": "heatmap"
           }
          ],
          "heatmapgl": [
           {
            "colorbar": {
             "outlinewidth": 0,
             "ticks": ""
            },
            "colorscale": [
             [
              0,
              "#0d0887"
             ],
             [
              0.1111111111111111,
              "#46039f"
             ],
             [
              0.2222222222222222,
              "#7201a8"
             ],
             [
              0.3333333333333333,
              "#9c179e"
             ],
             [
              0.4444444444444444,
              "#bd3786"
             ],
             [
              0.5555555555555556,
              "#d8576b"
             ],
             [
              0.6666666666666666,
              "#ed7953"
             ],
             [
              0.7777777777777778,
              "#fb9f3a"
             ],
             [
              0.8888888888888888,
              "#fdca26"
             ],
             [
              1,
              "#f0f921"
             ]
            ],
            "type": "heatmapgl"
           }
          ],
          "histogram": [
           {
            "marker": {
             "pattern": {
              "fillmode": "overlay",
              "size": 10,
              "solidity": 0.2
             }
            },
            "type": "histogram"
           }
          ],
          "histogram2d": [
           {
            "colorbar": {
             "outlinewidth": 0,
             "ticks": ""
            },
            "colorscale": [
             [
              0,
              "#0d0887"
             ],
             [
              0.1111111111111111,
              "#46039f"
             ],
             [
              0.2222222222222222,
              "#7201a8"
             ],
             [
              0.3333333333333333,
              "#9c179e"
             ],
             [
              0.4444444444444444,
              "#bd3786"
             ],
             [
              0.5555555555555556,
              "#d8576b"
             ],
             [
              0.6666666666666666,
              "#ed7953"
             ],
             [
              0.7777777777777778,
              "#fb9f3a"
             ],
             [
              0.8888888888888888,
              "#fdca26"
             ],
             [
              1,
              "#f0f921"
             ]
            ],
            "type": "histogram2d"
           }
          ],
          "histogram2dcontour": [
           {
            "colorbar": {
             "outlinewidth": 0,
             "ticks": ""
            },
            "colorscale": [
             [
              0,
              "#0d0887"
             ],
             [
              0.1111111111111111,
              "#46039f"
             ],
             [
              0.2222222222222222,
              "#7201a8"
             ],
             [
              0.3333333333333333,
              "#9c179e"
             ],
             [
              0.4444444444444444,
              "#bd3786"
             ],
             [
              0.5555555555555556,
              "#d8576b"
             ],
             [
              0.6666666666666666,
              "#ed7953"
             ],
             [
              0.7777777777777778,
              "#fb9f3a"
             ],
             [
              0.8888888888888888,
              "#fdca26"
             ],
             [
              1,
              "#f0f921"
             ]
            ],
            "type": "histogram2dcontour"
           }
          ],
          "mesh3d": [
           {
            "colorbar": {
             "outlinewidth": 0,
             "ticks": ""
            },
            "type": "mesh3d"
           }
          ],
          "parcoords": [
           {
            "line": {
             "colorbar": {
              "outlinewidth": 0,
              "ticks": ""
             }
            },
            "type": "parcoords"
           }
          ],
          "pie": [
           {
            "automargin": true,
            "type": "pie"
           }
          ],
          "scatter": [
           {
            "marker": {
             "colorbar": {
              "outlinewidth": 0,
              "ticks": ""
             }
            },
            "type": "scatter"
           }
          ],
          "scatter3d": [
           {
            "line": {
             "colorbar": {
              "outlinewidth": 0,
              "ticks": ""
             }
            },
            "marker": {
             "colorbar": {
              "outlinewidth": 0,
              "ticks": ""
             }
            },
            "type": "scatter3d"
           }
          ],
          "scattercarpet": [
           {
            "marker": {
             "colorbar": {
              "outlinewidth": 0,
              "ticks": ""
             }
            },
            "type": "scattercarpet"
           }
          ],
          "scattergeo": [
           {
            "marker": {
             "colorbar": {
              "outlinewidth": 0,
              "ticks": ""
             }
            },
            "type": "scattergeo"
           }
          ],
          "scattergl": [
           {
            "marker": {
             "colorbar": {
              "outlinewidth": 0,
              "ticks": ""
             }
            },
            "type": "scattergl"
           }
          ],
          "scattermapbox": [
           {
            "marker": {
             "colorbar": {
              "outlinewidth": 0,
              "ticks": ""
             }
            },
            "type": "scattermapbox"
           }
          ],
          "scatterpolar": [
           {
            "marker": {
             "colorbar": {
              "outlinewidth": 0,
              "ticks": ""
             }
            },
            "type": "scatterpolar"
           }
          ],
          "scatterpolargl": [
           {
            "marker": {
             "colorbar": {
              "outlinewidth": 0,
              "ticks": ""
             }
            },
            "type": "scatterpolargl"
           }
          ],
          "scatterternary": [
           {
            "marker": {
             "colorbar": {
              "outlinewidth": 0,
              "ticks": ""
             }
            },
            "type": "scatterternary"
           }
          ],
          "surface": [
           {
            "colorbar": {
             "outlinewidth": 0,
             "ticks": ""
            },
            "colorscale": [
             [
              0,
              "#0d0887"
             ],
             [
              0.1111111111111111,
              "#46039f"
             ],
             [
              0.2222222222222222,
              "#7201a8"
             ],
             [
              0.3333333333333333,
              "#9c179e"
             ],
             [
              0.4444444444444444,
              "#bd3786"
             ],
             [
              0.5555555555555556,
              "#d8576b"
             ],
             [
              0.6666666666666666,
              "#ed7953"
             ],
             [
              0.7777777777777778,
              "#fb9f3a"
             ],
             [
              0.8888888888888888,
              "#fdca26"
             ],
             [
              1,
              "#f0f921"
             ]
            ],
            "type": "surface"
           }
          ],
          "table": [
           {
            "cells": {
             "fill": {
              "color": "#EBF0F8"
             },
             "line": {
              "color": "white"
             }
            },
            "header": {
             "fill": {
              "color": "#C8D4E3"
             },
             "line": {
              "color": "white"
             }
            },
            "type": "table"
           }
          ]
         },
         "layout": {
          "annotationdefaults": {
           "arrowcolor": "#2a3f5f",
           "arrowhead": 0,
           "arrowwidth": 1
          },
          "autotypenumbers": "strict",
          "coloraxis": {
           "colorbar": {
            "outlinewidth": 0,
            "ticks": ""
           }
          },
          "colorscale": {
           "diverging": [
            [
             0,
             "#8e0152"
            ],
            [
             0.1,
             "#c51b7d"
            ],
            [
             0.2,
             "#de77ae"
            ],
            [
             0.3,
             "#f1b6da"
            ],
            [
             0.4,
             "#fde0ef"
            ],
            [
             0.5,
             "#f7f7f7"
            ],
            [
             0.6,
             "#e6f5d0"
            ],
            [
             0.7,
             "#b8e186"
            ],
            [
             0.8,
             "#7fbc41"
            ],
            [
             0.9,
             "#4d9221"
            ],
            [
             1,
             "#276419"
            ]
           ],
           "sequential": [
            [
             0,
             "#0d0887"
            ],
            [
             0.1111111111111111,
             "#46039f"
            ],
            [
             0.2222222222222222,
             "#7201a8"
            ],
            [
             0.3333333333333333,
             "#9c179e"
            ],
            [
             0.4444444444444444,
             "#bd3786"
            ],
            [
             0.5555555555555556,
             "#d8576b"
            ],
            [
             0.6666666666666666,
             "#ed7953"
            ],
            [
             0.7777777777777778,
             "#fb9f3a"
            ],
            [
             0.8888888888888888,
             "#fdca26"
            ],
            [
             1,
             "#f0f921"
            ]
           ],
           "sequentialminus": [
            [
             0,
             "#0d0887"
            ],
            [
             0.1111111111111111,
             "#46039f"
            ],
            [
             0.2222222222222222,
             "#7201a8"
            ],
            [
             0.3333333333333333,
             "#9c179e"
            ],
            [
             0.4444444444444444,
             "#bd3786"
            ],
            [
             0.5555555555555556,
             "#d8576b"
            ],
            [
             0.6666666666666666,
             "#ed7953"
            ],
            [
             0.7777777777777778,
             "#fb9f3a"
            ],
            [
             0.8888888888888888,
             "#fdca26"
            ],
            [
             1,
             "#f0f921"
            ]
           ]
          },
          "colorway": [
           "#636efa",
           "#EF553B",
           "#00cc96",
           "#ab63fa",
           "#FFA15A",
           "#19d3f3",
           "#FF6692",
           "#B6E880",
           "#FF97FF",
           "#FECB52"
          ],
          "font": {
           "color": "#2a3f5f"
          },
          "geo": {
           "bgcolor": "white",
           "lakecolor": "white",
           "landcolor": "#E5ECF6",
           "showlakes": true,
           "showland": true,
           "subunitcolor": "white"
          },
          "hoverlabel": {
           "align": "left"
          },
          "hovermode": "closest",
          "mapbox": {
           "style": "light"
          },
          "paper_bgcolor": "white",
          "plot_bgcolor": "#E5ECF6",
          "polar": {
           "angularaxis": {
            "gridcolor": "white",
            "linecolor": "white",
            "ticks": ""
           },
           "bgcolor": "#E5ECF6",
           "radialaxis": {
            "gridcolor": "white",
            "linecolor": "white",
            "ticks": ""
           }
          },
          "scene": {
           "xaxis": {
            "backgroundcolor": "#E5ECF6",
            "gridcolor": "white",
            "gridwidth": 2,
            "linecolor": "white",
            "showbackground": true,
            "ticks": "",
            "zerolinecolor": "white"
           },
           "yaxis": {
            "backgroundcolor": "#E5ECF6",
            "gridcolor": "white",
            "gridwidth": 2,
            "linecolor": "white",
            "showbackground": true,
            "ticks": "",
            "zerolinecolor": "white"
           },
           "zaxis": {
            "backgroundcolor": "#E5ECF6",
            "gridcolor": "white",
            "gridwidth": 2,
            "linecolor": "white",
            "showbackground": true,
            "ticks": "",
            "zerolinecolor": "white"
           }
          },
          "shapedefaults": {
           "line": {
            "color": "#2a3f5f"
           }
          },
          "ternary": {
           "aaxis": {
            "gridcolor": "white",
            "linecolor": "white",
            "ticks": ""
           },
           "baxis": {
            "gridcolor": "white",
            "linecolor": "white",
            "ticks": ""
           },
           "bgcolor": "#E5ECF6",
           "caxis": {
            "gridcolor": "white",
            "linecolor": "white",
            "ticks": ""
           }
          },
          "title": {
           "x": 0.05
          },
          "xaxis": {
           "automargin": true,
           "gridcolor": "white",
           "linecolor": "white",
           "ticks": "",
           "title": {
            "standoff": 15
           },
           "zerolinecolor": "white",
           "zerolinewidth": 2
          },
          "yaxis": {
           "automargin": true,
           "gridcolor": "white",
           "linecolor": "white",
           "ticks": "",
           "title": {
            "standoff": 15
           },
           "zerolinecolor": "white",
           "zerolinewidth": 2
          }
         }
        },
        "title": {
         "text": "Predicted vs Observed Values",
         "x": 0.5
        },
        "width": 1050
       }
      },
      "text/html": [
       "<div>                            <div id=\"ec1a12b9-9905-4b8e-96ff-756b866c3283\" class=\"plotly-graph-div\" style=\"height:800px; width:1050px;\"></div>            <script type=\"text/javascript\">                require([\"plotly\"], function(Plotly) {                    window.PLOTLYENV=window.PLOTLYENV || {};                                    if (document.getElementById(\"ec1a12b9-9905-4b8e-96ff-756b866c3283\")) {                    Plotly.newPlot(                        \"ec1a12b9-9905-4b8e-96ff-756b866c3283\",                        [{\"hovertemplate\":\"index=%{x}<br>y_predicted=%{y}<extra></extra>\",\"legendgroup\":\"\",\"line\":{\"color\":\"red\",\"dash\":\"solid\"},\"marker\":{\"symbol\":\"circle\"},\"mode\":\"lines\",\"name\":\"\",\"orientation\":\"v\",\"showlegend\":false,\"x\":[0,1,2,3,4,5,6,7,8,9,10,11,12,13,14],\"xaxis\":\"x\",\"y\":[1436.9253118420202,9.703969468050001,18.98810253813,0.00010335501,2.27695899816,525.18942764541,5.290148529930001,554.83775688231,201.88606341948005,1.29897814101,0.0006931725900000001,0.0037319361089999995,1376.7279310844401,1.424808e-05,0.00028304397],\"yaxis\":\"y\",\"type\":\"scatter\"},{\"hovertemplate\":\"index=%{x}<br>y_actual=%{y}<extra></extra>\",\"legendgroup\":\"\",\"marker\":{\"color\":\"#636efa\",\"symbol\":\"circle\"},\"mode\":\"markers\",\"name\":\"\",\"orientation\":\"v\",\"showlegend\":false,\"x\":[0,1,2,3,4,5,6,7,8,9,10,11,12,13,14],\"xaxis\":\"x\",\"y\":[1533.40842732,8.64129948,22.13328942,0.00012309000000000002,5.6556291,536.75514453,5.7088145400000005,595.7109044700001,27.39108306,0.9504217799999999,0.00069102,0.0033158399999999996,1423.4184102600002,1.815e-05,0.00186879],\"yaxis\":\"y\",\"type\":\"scatter\"}],                        {\"template\":{\"data\":{\"bar\":[{\"error_x\":{\"color\":\"#2a3f5f\"},\"error_y\":{\"color\":\"#2a3f5f\"},\"marker\":{\"line\":{\"color\":\"#E5ECF6\",\"width\":0.5},\"pattern\":{\"fillmode\":\"overlay\",\"size\":10,\"solidity\":0.2}},\"type\":\"bar\"}],\"barpolar\":[{\"marker\":{\"line\":{\"color\":\"#E5ECF6\",\"width\":0.5},\"pattern\":{\"fillmode\":\"overlay\",\"size\":10,\"solidity\":0.2}},\"type\":\"barpolar\"}],\"carpet\":[{\"aaxis\":{\"endlinecolor\":\"#2a3f5f\",\"gridcolor\":\"white\",\"linecolor\":\"white\",\"minorgridcolor\":\"white\",\"startlinecolor\":\"#2a3f5f\"},\"baxis\":{\"endlinecolor\":\"#2a3f5f\",\"gridcolor\":\"white\",\"linecolor\":\"white\",\"minorgridcolor\":\"white\",\"startlinecolor\":\"#2a3f5f\"},\"type\":\"carpet\"}],\"choropleth\":[{\"colorbar\":{\"outlinewidth\":0,\"ticks\":\"\"},\"type\":\"choropleth\"}],\"contour\":[{\"colorbar\":{\"outlinewidth\":0,\"ticks\":\"\"},\"colorscale\":[[0.0,\"#0d0887\"],[0.1111111111111111,\"#46039f\"],[0.2222222222222222,\"#7201a8\"],[0.3333333333333333,\"#9c179e\"],[0.4444444444444444,\"#bd3786\"],[0.5555555555555556,\"#d8576b\"],[0.6666666666666666,\"#ed7953\"],[0.7777777777777778,\"#fb9f3a\"],[0.8888888888888888,\"#fdca26\"],[1.0,\"#f0f921\"]],\"type\":\"contour\"}],\"contourcarpet\":[{\"colorbar\":{\"outlinewidth\":0,\"ticks\":\"\"},\"type\":\"contourcarpet\"}],\"heatmap\":[{\"colorbar\":{\"outlinewidth\":0,\"ticks\":\"\"},\"colorscale\":[[0.0,\"#0d0887\"],[0.1111111111111111,\"#46039f\"],[0.2222222222222222,\"#7201a8\"],[0.3333333333333333,\"#9c179e\"],[0.4444444444444444,\"#bd3786\"],[0.5555555555555556,\"#d8576b\"],[0.6666666666666666,\"#ed7953\"],[0.7777777777777778,\"#fb9f3a\"],[0.8888888888888888,\"#fdca26\"],[1.0,\"#f0f921\"]],\"type\":\"heatmap\"}],\"heatmapgl\":[{\"colorbar\":{\"outlinewidth\":0,\"ticks\":\"\"},\"colorscale\":[[0.0,\"#0d0887\"],[0.1111111111111111,\"#46039f\"],[0.2222222222222222,\"#7201a8\"],[0.3333333333333333,\"#9c179e\"],[0.4444444444444444,\"#bd3786\"],[0.5555555555555556,\"#d8576b\"],[0.6666666666666666,\"#ed7953\"],[0.7777777777777778,\"#fb9f3a\"],[0.8888888888888888,\"#fdca26\"],[1.0,\"#f0f921\"]],\"type\":\"heatmapgl\"}],\"histogram\":[{\"marker\":{\"pattern\":{\"fillmode\":\"overlay\",\"size\":10,\"solidity\":0.2}},\"type\":\"histogram\"}],\"histogram2d\":[{\"colorbar\":{\"outlinewidth\":0,\"ticks\":\"\"},\"colorscale\":[[0.0,\"#0d0887\"],[0.1111111111111111,\"#46039f\"],[0.2222222222222222,\"#7201a8\"],[0.3333333333333333,\"#9c179e\"],[0.4444444444444444,\"#bd3786\"],[0.5555555555555556,\"#d8576b\"],[0.6666666666666666,\"#ed7953\"],[0.7777777777777778,\"#fb9f3a\"],[0.8888888888888888,\"#fdca26\"],[1.0,\"#f0f921\"]],\"type\":\"histogram2d\"}],\"histogram2dcontour\":[{\"colorbar\":{\"outlinewidth\":0,\"ticks\":\"\"},\"colorscale\":[[0.0,\"#0d0887\"],[0.1111111111111111,\"#46039f\"],[0.2222222222222222,\"#7201a8\"],[0.3333333333333333,\"#9c179e\"],[0.4444444444444444,\"#bd3786\"],[0.5555555555555556,\"#d8576b\"],[0.6666666666666666,\"#ed7953\"],[0.7777777777777778,\"#fb9f3a\"],[0.8888888888888888,\"#fdca26\"],[1.0,\"#f0f921\"]],\"type\":\"histogram2dcontour\"}],\"mesh3d\":[{\"colorbar\":{\"outlinewidth\":0,\"ticks\":\"\"},\"type\":\"mesh3d\"}],\"parcoords\":[{\"line\":{\"colorbar\":{\"outlinewidth\":0,\"ticks\":\"\"}},\"type\":\"parcoords\"}],\"pie\":[{\"automargin\":true,\"type\":\"pie\"}],\"scatter\":[{\"marker\":{\"colorbar\":{\"outlinewidth\":0,\"ticks\":\"\"}},\"type\":\"scatter\"}],\"scatter3d\":[{\"line\":{\"colorbar\":{\"outlinewidth\":0,\"ticks\":\"\"}},\"marker\":{\"colorbar\":{\"outlinewidth\":0,\"ticks\":\"\"}},\"type\":\"scatter3d\"}],\"scattercarpet\":[{\"marker\":{\"colorbar\":{\"outlinewidth\":0,\"ticks\":\"\"}},\"type\":\"scattercarpet\"}],\"scattergeo\":[{\"marker\":{\"colorbar\":{\"outlinewidth\":0,\"ticks\":\"\"}},\"type\":\"scattergeo\"}],\"scattergl\":[{\"marker\":{\"colorbar\":{\"outlinewidth\":0,\"ticks\":\"\"}},\"type\":\"scattergl\"}],\"scattermapbox\":[{\"marker\":{\"colorbar\":{\"outlinewidth\":0,\"ticks\":\"\"}},\"type\":\"scattermapbox\"}],\"scatterpolar\":[{\"marker\":{\"colorbar\":{\"outlinewidth\":0,\"ticks\":\"\"}},\"type\":\"scatterpolar\"}],\"scatterpolargl\":[{\"marker\":{\"colorbar\":{\"outlinewidth\":0,\"ticks\":\"\"}},\"type\":\"scatterpolargl\"}],\"scatterternary\":[{\"marker\":{\"colorbar\":{\"outlinewidth\":0,\"ticks\":\"\"}},\"type\":\"scatterternary\"}],\"surface\":[{\"colorbar\":{\"outlinewidth\":0,\"ticks\":\"\"},\"colorscale\":[[0.0,\"#0d0887\"],[0.1111111111111111,\"#46039f\"],[0.2222222222222222,\"#7201a8\"],[0.3333333333333333,\"#9c179e\"],[0.4444444444444444,\"#bd3786\"],[0.5555555555555556,\"#d8576b\"],[0.6666666666666666,\"#ed7953\"],[0.7777777777777778,\"#fb9f3a\"],[0.8888888888888888,\"#fdca26\"],[1.0,\"#f0f921\"]],\"type\":\"surface\"}],\"table\":[{\"cells\":{\"fill\":{\"color\":\"#EBF0F8\"},\"line\":{\"color\":\"white\"}},\"header\":{\"fill\":{\"color\":\"#C8D4E3\"},\"line\":{\"color\":\"white\"}},\"type\":\"table\"}]},\"layout\":{\"annotationdefaults\":{\"arrowcolor\":\"#2a3f5f\",\"arrowhead\":0,\"arrowwidth\":1},\"autotypenumbers\":\"strict\",\"coloraxis\":{\"colorbar\":{\"outlinewidth\":0,\"ticks\":\"\"}},\"colorscale\":{\"diverging\":[[0,\"#8e0152\"],[0.1,\"#c51b7d\"],[0.2,\"#de77ae\"],[0.3,\"#f1b6da\"],[0.4,\"#fde0ef\"],[0.5,\"#f7f7f7\"],[0.6,\"#e6f5d0\"],[0.7,\"#b8e186\"],[0.8,\"#7fbc41\"],[0.9,\"#4d9221\"],[1,\"#276419\"]],\"sequential\":[[0.0,\"#0d0887\"],[0.1111111111111111,\"#46039f\"],[0.2222222222222222,\"#7201a8\"],[0.3333333333333333,\"#9c179e\"],[0.4444444444444444,\"#bd3786\"],[0.5555555555555556,\"#d8576b\"],[0.6666666666666666,\"#ed7953\"],[0.7777777777777778,\"#fb9f3a\"],[0.8888888888888888,\"#fdca26\"],[1.0,\"#f0f921\"]],\"sequentialminus\":[[0.0,\"#0d0887\"],[0.1111111111111111,\"#46039f\"],[0.2222222222222222,\"#7201a8\"],[0.3333333333333333,\"#9c179e\"],[0.4444444444444444,\"#bd3786\"],[0.5555555555555556,\"#d8576b\"],[0.6666666666666666,\"#ed7953\"],[0.7777777777777778,\"#fb9f3a\"],[0.8888888888888888,\"#fdca26\"],[1.0,\"#f0f921\"]]},\"colorway\":[\"#636efa\",\"#EF553B\",\"#00cc96\",\"#ab63fa\",\"#FFA15A\",\"#19d3f3\",\"#FF6692\",\"#B6E880\",\"#FF97FF\",\"#FECB52\"],\"font\":{\"color\":\"#2a3f5f\"},\"geo\":{\"bgcolor\":\"white\",\"lakecolor\":\"white\",\"landcolor\":\"#E5ECF6\",\"showlakes\":true,\"showland\":true,\"subunitcolor\":\"white\"},\"hoverlabel\":{\"align\":\"left\"},\"hovermode\":\"closest\",\"mapbox\":{\"style\":\"light\"},\"paper_bgcolor\":\"white\",\"plot_bgcolor\":\"#E5ECF6\",\"polar\":{\"angularaxis\":{\"gridcolor\":\"white\",\"linecolor\":\"white\",\"ticks\":\"\"},\"bgcolor\":\"#E5ECF6\",\"radialaxis\":{\"gridcolor\":\"white\",\"linecolor\":\"white\",\"ticks\":\"\"}},\"scene\":{\"xaxis\":{\"backgroundcolor\":\"#E5ECF6\",\"gridcolor\":\"white\",\"gridwidth\":2,\"linecolor\":\"white\",\"showbackground\":true,\"ticks\":\"\",\"zerolinecolor\":\"white\"},\"yaxis\":{\"backgroundcolor\":\"#E5ECF6\",\"gridcolor\":\"white\",\"gridwidth\":2,\"linecolor\":\"white\",\"showbackground\":true,\"ticks\":\"\",\"zerolinecolor\":\"white\"},\"zaxis\":{\"backgroundcolor\":\"#E5ECF6\",\"gridcolor\":\"white\",\"gridwidth\":2,\"linecolor\":\"white\",\"showbackground\":true,\"ticks\":\"\",\"zerolinecolor\":\"white\"}},\"shapedefaults\":{\"line\":{\"color\":\"#2a3f5f\"}},\"ternary\":{\"aaxis\":{\"gridcolor\":\"white\",\"linecolor\":\"white\",\"ticks\":\"\"},\"baxis\":{\"gridcolor\":\"white\",\"linecolor\":\"white\",\"ticks\":\"\"},\"bgcolor\":\"#E5ECF6\",\"caxis\":{\"gridcolor\":\"white\",\"linecolor\":\"white\",\"ticks\":\"\"}},\"title\":{\"x\":0.05},\"xaxis\":{\"automargin\":true,\"gridcolor\":\"white\",\"linecolor\":\"white\",\"ticks\":\"\",\"title\":{\"standoff\":15},\"zerolinecolor\":\"white\",\"zerolinewidth\":2},\"yaxis\":{\"automargin\":true,\"gridcolor\":\"white\",\"linecolor\":\"white\",\"ticks\":\"\",\"title\":{\"standoff\":15},\"zerolinecolor\":\"white\",\"zerolinewidth\":2}}},\"title\":{\"text\":\"Predicted vs Observed Values\",\"x\":0.5},\"autosize\":false,\"width\":1050,\"height\":800,\"showlegend\":true},                        {\"responsive\": true}                    ).then(function(){\n",
       "                            \n",
       "var gd = document.getElementById('ec1a12b9-9905-4b8e-96ff-756b866c3283');\n",
       "var x = new MutationObserver(function (mutations, observer) {{\n",
       "        var display = window.getComputedStyle(gd).display;\n",
       "        if (!display || display === 'none') {{\n",
       "            console.log([gd, 'removed!']);\n",
       "            Plotly.purge(gd);\n",
       "            observer.disconnect();\n",
       "        }}\n",
       "}});\n",
       "\n",
       "// Listen for the removal of the full notebook cells\n",
       "var notebookContainer = gd.closest('#notebook-container');\n",
       "if (notebookContainer) {{\n",
       "    x.observe(notebookContainer, {childList: true});\n",
       "}}\n",
       "\n",
       "// Listen for the clearing of the current output cell\n",
       "var outputEl = gd.closest('.output');\n",
       "if (outputEl) {{\n",
       "    x.observe(outputEl, {childList: true});\n",
       "}}\n",
       "\n",
       "                        })                };                });            </script>        </div>"
      ]
     },
     "metadata": {},
     "output_type": "display_data"
    },
    {
     "name": "stdout",
     "output_type": "stream",
     "text": [
      "Sample Data: ------------------------------------------------------------\n",
      "   y_predicted  y_actual\n",
      "0     1436.925  1533.408\n",
      "1        9.704     8.641\n",
      "2       18.988    22.133\n",
      "3        0.000     0.000\n",
      "4        2.277     5.656\n",
      "5      525.189   536.755\n",
      "6        5.290     5.709\n",
      "7      554.838   595.711\n",
      "8      201.886    27.391\n",
      "9        1.299     0.950\n"
     ]
    }
   ],
   "source": [
    "#Take a sample of y_pred vs y_true and plot it\n",
    "\n",
    "def plot_act_vs_pred(y_hat, y_real):\n",
    "\n",
    "    plot_data = pd.DataFrame()\n",
    "    \n",
    "    y_labels = y_real\n",
    "\n",
    "    plot_data['y_predicted'] = list(y_hat)\n",
    "    plot_data['y_actual'] = list(y_real)\n",
    "    \n",
    "    #take a random sample for ease of interpretation \n",
    "    \n",
    "    plot_data = plot_data.sample(15).reset_index(drop = True)\n",
    "    \n",
    "    fig1= px.line(plot_data,y = 'y_predicted', width = 800, height = 500)\n",
    "    fig1.update_traces(line=dict(color = 'red'))\n",
    "\n",
    "    fig2= px.scatter(plot_data, y = 'y_actual', width = 800, height = 500)\n",
    "\n",
    "    fig3 = go.Figure(data=fig1.data + fig2.data)\n",
    "    \n",
    "    fig3.update_layout(\n",
    "    autosize=False,\n",
    "    width=1050,\n",
    "    height=800,\n",
    "    showlegend= True,\n",
    "    title_text='Predicted vs Observed Values', title_x=0.5)\n",
    "    \n",
    "    \n",
    "    fig3.show()\n",
    "    \n",
    "    print('Sample Data: ------------------------------------------------------------')\n",
    "    \n",
    "    print(plot_data.head(10))\n",
    "    \n",
    "\n",
    "plot_act_vs_pred(overall_results['predicted_org_cost'], overall_results['total_org_cost'])"
   ]
  }
 ],
 "metadata": {
  "kernelspec": {
   "display_name": "Python 3",
   "language": "python",
   "name": "python3"
  },
  "language_info": {
   "codemirror_mode": {
    "name": "ipython",
    "version": 3
   },
   "file_extension": ".py",
   "mimetype": "text/x-python",
   "name": "python",
   "nbconvert_exporter": "python",
   "pygments_lexer": "ipython3",
   "version": "3.8.8"
  }
 },
 "nbformat": 4,
 "nbformat_minor": 5
}
